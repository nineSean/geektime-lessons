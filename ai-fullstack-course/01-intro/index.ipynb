{
 "cells": [
  {
   "cell_type": "markdown",
   "metadata": {},
   "source": [
    "# 大模型应用开发基础\n",
    "\n",
    "## 💡 这节课会带给你\n",
    "\n",
    "1. 了解大模型都能做什么\n",
    "2. 整体了解大模型应用开发技术栈\n",
    "3. 浅尝 OpenAI API 的调用\n",
    "\n",
    "开始上课！\n"
   ]
  },
  {
   "cell_type": "markdown",
   "metadata": {},
   "source": [
    "## 一、怎样学好这门课\n",
    "\n",
    "1. 课程大纲的设计初心\n",
    "2. 每部分能给你带来什么\n",
    "3. 做自己的选择，定自己的目标\n"
   ]
  },
  {
   "cell_type": "markdown",
   "metadata": {},
   "source": [
    "### 1.1、我们的初心\n",
    "\n",
    "我们相信，**懂 AI、懂编程、懂业务**的超级个体，会是 AGI 时代最重要的人。所以我们提出了「AI 全栈工程师」这个概念，让它显得不那么浮夸。\n",
    "\n",
    "这门课的目标，就是培养「AI 全栈」。\n",
    "\n",
    "- 「全栈」涉及的知识面非常广，区区一门课不可能全部涉及\n",
    "- 我们能做到的是，在各个方向上都为大家打开一扇门，带大家入门\n",
    "- 想走得更深更远，要靠大家自己，我们的社群，和 AI 的进化。\n",
    "\n",
    "但是，「入门」并不代表简单、肤浅。我们的课程会在三个方向发力：\n",
    "\n",
    "1. 原理\n",
    "2. 实践\n",
    "3. 认知\n",
    "\n",
    "**不懂原理**就不会举一反三，走不了太远。\n",
    "\n",
    "**不懂实践**就只能纸上谈兵，做事不落地。\n",
    "\n",
    "**认知不高**就无法做对决策，天花板太低。\n",
    "\n",
    "这三样，都是「干货」。\n",
    "\n",
    "<div class=\"alert alert-info\">\n",
    "<b>强烈提醒！</b>在剧烈变革的时代，千万别只拿代码当干货！\n",
    "</div>\n"
   ]
  },
  {
   "cell_type": "markdown",
   "metadata": {},
   "source": [
    "### 1.2、知识体系\n",
    "\n",
    "在图中找到自己的地盘。\n",
    "\n",
    "<img src=\"structure.png\" width=600px>\n"
   ]
  },
  {
   "cell_type": "markdown",
   "metadata": {},
   "source": [
    "### 1.3、学习方法\n",
    "\n",
    "大家的职业分布图：\n",
    "\n",
    "<img src=\"job.png\" width=600px>\n",
    "\n",
    "课程内容、难度和进度都是取最大公约数，照顾大多数。典型画像是：\n",
    "\n",
    "1. 懂至少一门编程语言\n",
    "2. 有真实的项目经验\n",
    "3. 对大模型相关技术基本不了解\n",
    "\n",
    "历史上有三类同学会和课程产生分歧：\n",
    "| 学员 | 感受 | 建议 |\n",
    "| -------------------------------- | ------------------------------------ | ---------------------------------------------------- |\n",
    "| 没有实际工程经验，甚至不会编程 | 大量听不懂 | 把能听懂的多实践，凿实。别纠结暂时学不会的，可能只是机缘未到，慢慢来 |\n",
    "| 已经自学过一些，甚至已经实践过 | 有大量内容已知，获得感少 | 关注增量，别被存量绑架 |\n",
    "| 带着项目目标前来 | 课程进度太慢，不能直接解决自己的问题 | 欢迎在群里讨论你的项目 |\n",
    "\n",
    "建议取舍：\n",
    "\n",
    "1. 原理一定要用心学。除了 Fine-tuning 原理外，都不算难\n",
    "2. 认知一定要用心领悟。这是这门课最领先的地方\n",
    "3. 编程和工程经验不足，别对着实战太较劲。受些熏陶就是胜利\n",
    "\n",
    "别忘了，有一年的会员期可以持续跟学！\n"
   ]
  },
  {
   "cell_type": "markdown",
   "metadata": {},
   "source": [
    "### 1.4、FAQ\n",
    "\n",
    "### 用好 AI 需要很多数学知识吗？\n",
    "\n",
    "- 以前真需要，以后可能不那么需要了\n",
    "\n",
    "### 有的知识太深，我理解不了怎么办\n",
    "\n",
    "- 「用到再讲、学以致用」是我们的教学理念。很多知识，用着用着就理解了\n",
    "- 少部分基础数学知识主要在数据和模型训练部分，可以根据自身情况选择性理解。不理解，也不大影响使用\n",
    "\n",
    "### 感觉讲的太浅了，没学到知识怎么办\n",
    "\n",
    "- 更深的东西，未必有用\n",
    "- 如果感觉不解渴，欢迎在互动环节积极提问，或课后群里提问\n",
    "\n",
    "### 课听懂了，实际工作中还是不会用怎么办\n",
    "\n",
    "- NLP 的实际问题通常不是端到端由一个算法解决的，我们把拆解问题的思路融入课程中，**用心体会**\n",
    "- 既然花钱来上课了，**群里问！**\n",
    "\n",
    "<div class=\"alert alert-warning\">\n",
    "<b>建议：</b>\n",
    "<ul>\n",
    "<li>本课毕竟全球首创，且 AI 领域日新周异高速迭代，必有大量不足之处</li>\n",
    "<li>我们会不断改进，欢迎<b>随时</b>提出宝贵意见。</li>\n",
    "</ul>\n",
    "</div>\n"
   ]
  },
  {
   "cell_type": "markdown",
   "metadata": {
    "id": "1nOf4rvQ13si"
   },
   "source": [
    "## 二、什么是 AI？\n",
    "\n",
    "<img src=\"./ai-timeline.png\" style=\"margin-left: 0px\" width=\"800px\">\n",
    "\n",
    "> 「深蓝」的创造者许峰雄博士说过：「AI is bullshit。深蓝没用任何 AI 算法，就是硬件穷举棋步。」\n",
    "\n",
    "<div class=\"alert alert-warning\">\n",
    "<b>思考：</b>你觉得哪些应用算是 AI？\n",
    "</div>\n",
    "\n",
    "一种观点：基于机器学习、神经网络的是 AI，基于规则、搜索的不是 AI。\n"
   ]
  },
  {
   "cell_type": "markdown",
   "metadata": {
    "id": "1nOf4rvQ13si"
   },
   "source": [
    "## 三、大模型能干什么？\n",
    "\n",
    "大模型，全称「大语言模型」，英文「Large Language Model」，缩写「LLM」。\n",
    "\n",
    "现在，已经不需要再演示了。每人应该都至少和下面一个大模型 AI 对话过至少 100 次。\n",
    "\n",
    "- ChatGPT：[https://chat.openai.com/](https://chat.openai.com/)\n",
    "- Bing Chat：[https://bing.com/new](https://bing.com/new)\n",
    "- 文心一言：[https://yiyan.baidu.com/](https://yiyan.baidu.com/)\n",
    "- 讯飞星火：[https://xinghuo.xfyun.cn/](https://xinghuo.xfyun.cn/)\n",
    "- 智谱清言：[https://chatglm.cn/](https://chatglm.cn/)\n",
    "\n",
    "快一年了，ChatGPT 仍然是当家扛把子，别人追赶的对象。\n",
    "\n",
    "<div class=\"alert alert-warning\">\n",
    "<b>建议：</b>\n",
    "<ul>\n",
    "<li>一定要有一个访问国外的「通道」，否则无法访问、实操本课大量资源。</li>\n",
    "<li>尽量找国外朋友帮忙认证 ChatGPT 手机号（一个手机号可以认证多次），不得已再从贩子手里买号</li>\n",
    "<li>用 <a href=\"https://bing.com/new\">Bing Chat</a> 也可以，邮箱注册就能用，且免费使用的模型就是宇宙最强的 GPT-4</li>\n",
    "</ul>\n",
    "</div>\n",
    "\n",
    "但是，千万别以为大模型只是聊天机器人。它的应用场景，远不止于此。\n"
   ]
  },
  {
   "cell_type": "markdown",
   "metadata": {
    "id": "1nOf4rvQ13si"
   },
   "source": [
    "### 3.1、按格式输出\n",
    "\n",
    "<img src=\"./gpt-ner.png\" style=\"margin-left: 0px\">\n",
    "\n",
    "### 3.2、分类\n",
    "\n",
    "<img src=\"./gpt-classification.png\" style=\"margin-left: 0px\" width=600px>\n",
    "\n",
    "### 3.3、聚类\n",
    "\n",
    "<img src=\"./gpt-clustering.png\" style=\"margin-left: 0px\" width=600px>\n",
    "\n",
    "### 3.4、持续互动\n",
    "\n",
    "<img src=\"./gpt-decision.png\" style=\"margin-left: 0px\" width=600px>\n",
    "\n",
    "### 3.5、技术相关问题\n",
    "\n",
    "<img src=\"./gpt-plan.png\" style=\"margin-left: 0px\" width=600px>\n",
    "\n",
    "### 3.6、更多举例\n",
    "\n",
    "- **舆情分析：**从公司产品的评论中，分析哪些功能/元素是用户讨论最多的，评价是正向还是负向\n",
    "- **坐席质检：**检查客服/销售人员与用户的对话记录，判断是否有争吵、辱骂、不当言论，话术是否符合标准\n",
    "- **故障解释：**根据系统报错信息，给出方便非技术人员阅读的故障说明\n",
    "- **零代码开发/运维：**自动规划任务，生成指令，自动执行\n",
    "- **生成业务逻辑：**自定义一套业务描述语言（DSL），直接让 ChatGPT 写业务逻辑代码\n",
    "\n",
    "<div class=\"alert alert-warning\">\n",
    "<b>思考：</b>你的业务中，有哪些问题可以用 AI 解决？\n",
    "</div>\n"
   ]
  },
  {
   "cell_type": "markdown",
   "metadata": {
    "id": "1nOf4rvQ13si"
   },
   "source": [
    "### 3.7、可能一切问题，都能解决，所以是 AGI\n",
    "\n",
    "<div class=\"alert alert-success\">\n",
    "<b>划重点：</b>\n",
    "<ol>\n",
    "<li>把 ChatGPT 看做是一个函数，给输入，<b>生成</b>输出</li>\n",
    "<li>任何业务问题，都可以用语言描述，成为 ChatGPT 的输入，就能<b>生成</b>业务问题的结果</li>\n",
    "<li>实际工作中，通常需要将业务任务拆解为若干个子任务，分别解决。<b>理解问题本质，对拆解任务有很大帮助！</b></li>\n",
    "</ol>\n",
    "</div>\n",
    "\n",
    "这是美好的理想，现在还远不能做到\n"
   ]
  },
  {
   "cell_type": "markdown",
   "metadata": {
    "id": "1nOf4rvQ13si"
   },
   "source": [
    "## 四、大模型是怎么生成结果的？\n",
    "\n",
    "其实，它只是根据上文，猜下一个词（的概率）…… 这个算法叫 transformer\n",
    "\n",
    "<img src=\"./lm-autoregressive.gif\" style=\"margin-left: 0px\">\n"
   ]
  },
  {
   "cell_type": "markdown",
   "metadata": {
    "id": "1nOf4rvQ13si"
   },
   "source": [
    "OpenAI 的接口名就叫「completion」，也证明了其只会「生成」的本质。\n",
    "\n",
    "下面用程序演示「生成下一个字」。你可以自己修改 prompt 试试。还可以使用相同的 prompt 运行多次。\n"
   ]
  },
  {
   "cell_type": "code",
   "execution_count": 2,
   "metadata": {
    "scrolled": true
   },
   "outputs": [
    {
     "ename": "ImportError",
     "evalue": "cannot import name 'OpenAI' from 'openai' (/opt/conda/lib/python3.11/site-packages/openai/__init__.py)",
     "output_type": "error",
     "traceback": [
      "\u001b[0;31m---------------------------------------------------------------------------\u001b[0m",
      "\u001b[0;31mImportError\u001b[0m                               Traceback (most recent call last)",
      "Cell \u001b[0;32mIn[2], line 1\u001b[0m\n\u001b[0;32m----> 1\u001b[0m \u001b[38;5;28;01mfrom\u001b[39;00m \u001b[38;5;21;01mopenai\u001b[39;00m \u001b[38;5;28;01mimport\u001b[39;00m OpenAI\n\u001b[1;32m      2\u001b[0m \u001b[38;5;28;01mimport\u001b[39;00m \u001b[38;5;21;01mos\u001b[39;00m\n\u001b[1;32m      4\u001b[0m \u001b[38;5;28;01mfrom\u001b[39;00m \u001b[38;5;21;01mdotenv\u001b[39;00m \u001b[38;5;28;01mimport\u001b[39;00m load_dotenv, find_dotenv\n",
      "\u001b[0;31mImportError\u001b[0m: cannot import name 'OpenAI' from 'openai' (/opt/conda/lib/python3.11/site-packages/openai/__init__.py)"
     ]
    }
   ],
   "source": [
    "from openai import OpenAI\n",
    "import os\n",
    "\n",
    "from dotenv import load_dotenv, find_dotenv\n",
    "_ = load_dotenv(find_dotenv())\n",
    "\n",
    "client = OpenAI(\n",
    "    api_key=os.getenv(\"OPENAI_API_KEY\"),\n",
    "    base_url=os.getenv(\"OPENAI_API_BASE\")\n",
    ")\n",
    "\n",
    "prompt = \"今天我很\"\n",
    "response = client.completions.create(\n",
    "    model=\"gpt-3.5-turbo-instruct\",\n",
    "    prompt=prompt,\n",
    "    max_tokens=100,\n",
    "    temperature=0,\n",
    "    stream=True\n",
    ")\n",
    "\n",
    "for chunk in response:\n",
    "    print(chunk.choices[0].text, end='')"
   ]
  },
  {
   "cell_type": "markdown",
   "metadata": {},
   "source": [
    "<div class=\"alert alert-success\">\n",
    "<b>划重点：</b>\n",
    "我们用不严密但通俗的语言描述 ChatGPT 的工作原理：\n",
    "<ol>\n",
    "<li>GPT「大模型」阅读了人类曾说过的所有的话。这就是「学习」</li>\n",
    "<li>把一串 token 后面跟着的不同 token 的<b>概率</b>记下来。记下的就是「参数」，也叫「权重」</li>\n",
    "<li>当我们给它若干 token，GPT 就能算出概率最高的下一个 token 是什么。这就是「生成」</li>\n",
    "<li>用生成的 token，再加上上文，就能继续生成下一个 token。以此类推，生成更多文字</li>\n",
    "</ol>\n",
    "</div>\n",
    "\n",
    "Token 是什么？\n",
    "\n",
    "1. 可能是一个英文单词，也可能是半个，三分之一个。可能是一个中文词，或者一个汉字，也可能是半个汉字，甚至三分之一个汉字\n",
    "2. 大模型在开训前，需要先训练一个 tokenizer 模型。它能把所有的文本，切成 token\n",
    "\n",
    "<div class=\"alert alert-warning\">\n",
    "<b>思考：</b>\n",
    "<ol>\n",
    "<li>ChatGPT 做对的事，怎么用这个原理解释？</li>\n",
    "<li>AI 的幻觉，一本正经地胡说八道，怎么用这个原理解释？</li>\n",
    "</ol>\n",
    "</div>\n"
   ]
  },
  {
   "cell_type": "markdown",
   "metadata": {},
   "source": [
    "## 五、用好 AI 的核心心法\n",
    "\n",
    "OpenAI 首席科学家 Ilya Sutskever 说过：数字神经网络各和人脑的生物神经网络，在数学原理上是一样的。\n",
    "\n",
    "所以，我们要：\n",
    "\n",
    "<div class=\"alert alert-success\">\n",
    "把 AI 当人看。<br>\n",
    "把 AI 当人看。<br>\n",
    "把 AI 当人看。\n",
    "</div>\n",
    "\n",
    "我们和凯文·凯利交流时，他说了类似的观点：「和人怎么相处，就和 AI 怎么相处。」\n",
    "\n",
    "1. 用「当人看」来理解 AI\n",
    "2. 用「当人看」来控制 AI\n",
    "3. 用「当人看」来说服用户正确看待 AI 的不足\n",
    "\n",
    "这是贯彻整门课，甚至我们与 AI 为伴的整个生涯的心法。现在不认同、不理解都没关系，慢慢来。\n"
   ]
  },
  {
   "cell_type": "markdown",
   "metadata": {
    "id": "1nOf4rvQ13si"
   },
   "source": [
    "## 六、大模型应用架构\n",
    "\n",
    "大模型技术分两个部分：\n",
    "\n",
    "1. **训练基础大模型**：全世界只需要 1000 人做这个\n",
    "2. **建造大模型应用**：所有技术人都需要掌握\n",
    "\n",
    "<div class=\"alert alert-success\">\n",
    "大模型应用技术特点：<strong>门槛低，落地难。</strong>\n",
    "</div>\n",
    "\n",
    "像极了做管理\n"
   ]
  },
  {
   "cell_type": "markdown",
   "metadata": {},
   "source": [
    "### 6.1、典型业务架构\n",
    "\n",
    "<img src=\"./business_arch.webp\" style=\"margin-left: 0px\" width=700px>\n",
    "\n",
    "Agent 还太超前，Copilot 值得追求。\n"
   ]
  },
  {
   "cell_type": "markdown",
   "metadata": {},
   "source": [
    "### 6.2、技术架构\n",
    "\n",
    "#### 纯 Prompt\n",
    "\n",
    "就像和一个人对话，你说一句，ta 回一句，你再说一句，ta 再回一句……\n",
    "\n",
    "<img src=\"./prompt_arch.png\" style=\"margin-left: 0px\" width=300px>\n"
   ]
  },
  {
   "cell_type": "markdown",
   "metadata": {},
   "source": [
    "#### Agent + Function Calling\n",
    "\n",
    "- Agent：AI 主动提要求\n",
    "- Function Calling：AI 要求执行某个函数\n",
    "- 场景举例：你问过年去哪玩，ta 先反问你有几天假\n",
    "\n",
    "<img src=\"./func_arch.png\" style=\"margin-left: 0px\" width=600px>\n"
   ]
  },
  {
   "cell_type": "markdown",
   "metadata": {},
   "source": [
    "#### Embeddings + 向量数据库\n",
    "\n",
    "- Embeddings：把文字转换为更易于相似度计算的编码。这种编码叫向量\n",
    "- 向量数据库：把向量存起来，方便查找\n",
    "- 向量搜索：根据输入向量，找到最相似的向量\n",
    "- 场景举例：考试时，看到一道题，到书上找相关内容，再结合题目组成答案。然后，就都忘了\n",
    "\n",
    "<img src=\"./embeddings_arch.png\" style=\"margin-left: 0px\" width=700px>\n"
   ]
  },
  {
   "cell_type": "markdown",
   "metadata": {},
   "source": [
    "#### Fine-tuning\n",
    "\n",
    "努力学习考试内容，长期记住，活学活用。\n",
    "\n",
    "<img src=\"./tech_arch.png\" style=\"margin-left: 0px\" width=700px>\n"
   ]
  },
  {
   "cell_type": "markdown",
   "metadata": {
    "id": "1nOf4rvQ13si"
   },
   "source": [
    "## 七、OpenAI API 初探\n",
    "\n",
    "### 7.1、安装 Python 库\n",
    "\n",
    "```bash\n",
    "pip install --upgrade openai\n",
    "```\n",
    "\n",
    "### 7.2、查看可调用的模型\n"
   ]
  },
  {
   "cell_type": "code",
   "execution_count": 4,
   "metadata": {},
   "outputs": [
    {
     "ename": "NameError",
     "evalue": "name 'OpenAI' is not defined",
     "output_type": "error",
     "traceback": [
      "\u001b[0;31m---------------------------------------------------------------------------\u001b[0m",
      "\u001b[0;31mNameError\u001b[0m                                 Traceback (most recent call last)",
      "Cell \u001b[0;32mIn[4], line 9\u001b[0m\n\u001b[1;32m      6\u001b[0m _ \u001b[38;5;241m=\u001b[39m load_dotenv(find_dotenv())\n\u001b[1;32m      8\u001b[0m \u001b[38;5;66;03m# 从环境变量中获得你的 OpenAI Key\u001b[39;00m\n\u001b[0;32m----> 9\u001b[0m client \u001b[38;5;241m=\u001b[39m \u001b[43mOpenAI\u001b[49m(\n\u001b[1;32m     10\u001b[0m     api_key\u001b[38;5;241m=\u001b[39mos\u001b[38;5;241m.\u001b[39mgetenv(\u001b[38;5;124m\"\u001b[39m\u001b[38;5;124mOPENAI_API_KEY\u001b[39m\u001b[38;5;124m\"\u001b[39m),\n\u001b[1;32m     11\u001b[0m     base_url\u001b[38;5;241m=\u001b[39mos\u001b[38;5;241m.\u001b[39mgetenv(\u001b[38;5;124m\"\u001b[39m\u001b[38;5;124mOPENAI_API_BASE\u001b[39m\u001b[38;5;124m\"\u001b[39m)\n\u001b[1;32m     12\u001b[0m )\n\u001b[1;32m     14\u001b[0m \u001b[38;5;66;03m# 模型列表\u001b[39;00m\n\u001b[1;32m     15\u001b[0m models \u001b[38;5;241m=\u001b[39m client\u001b[38;5;241m.\u001b[39mmodels\u001b[38;5;241m.\u001b[39mlist()\n",
      "\u001b[0;31mNameError\u001b[0m: name 'OpenAI' is not defined"
     ]
    }
   ],
   "source": [
    "from openai import OpenAI\n",
    "import os\n",
    "\n",
    "# 加载 .env 文件\n",
    "from dotenv import load_dotenv, find_dotenv\n",
    "_ = load_dotenv(find_dotenv())\n",
    "\n",
    "# 从环境变量中获得你的 OpenAI Key\n",
    "client = OpenAI(\n",
    "    api_key=os.getenv(\"OPENAI_API_KEY\"),\n",
    "    base_url=os.getenv(\"OPENAI_API_BASE\")\n",
    ")\n",
    "\n",
    "# 模型列表\n",
    "models = client.models.list()\n",
    "\n",
    "for model in models.data:\n",
    "    print(model.id)"
   ]
  },
  {
   "cell_type": "markdown",
   "metadata": {},
   "source": [
    "### 7.3、发一条消息\n"
   ]
  },
  {
   "cell_type": "code",
   "execution_count": 3,
   "metadata": {},
   "outputs": [
    {
     "ename": "NameError",
     "evalue": "name 'client' is not defined",
     "output_type": "error",
     "traceback": [
      "\u001b[0;31m---------------------------------------------------------------------------\u001b[0m",
      "\u001b[0;31mNameError\u001b[0m                                 Traceback (most recent call last)",
      "Cell \u001b[0;32mIn[3], line 15\u001b[0m\n\u001b[1;32m      2\u001b[0m messages \u001b[38;5;241m=\u001b[39m [\n\u001b[1;32m      3\u001b[0m     {\n\u001b[1;32m      4\u001b[0m         \u001b[38;5;124m\"\u001b[39m\u001b[38;5;124mrole\u001b[39m\u001b[38;5;124m\"\u001b[39m: \u001b[38;5;124m\"\u001b[39m\u001b[38;5;124msystem\u001b[39m\u001b[38;5;124m\"\u001b[39m,\n\u001b[0;32m   (...)\u001b[0m\n\u001b[1;32m     11\u001b[0m \n\u001b[1;32m     12\u001b[0m ]\n\u001b[1;32m     14\u001b[0m \u001b[38;5;66;03m# 调用ChatGPT-3.5\u001b[39;00m\n\u001b[0;32m---> 15\u001b[0m chat_completion \u001b[38;5;241m=\u001b[39m \u001b[43mclient\u001b[49m\u001b[38;5;241m.\u001b[39mchat\u001b[38;5;241m.\u001b[39mcompletions\u001b[38;5;241m.\u001b[39mcreate(\n\u001b[1;32m     16\u001b[0m     model\u001b[38;5;241m=\u001b[39m\u001b[38;5;124m\"\u001b[39m\u001b[38;5;124mgpt-3.5-turbo\u001b[39m\u001b[38;5;124m\"\u001b[39m, messages\u001b[38;5;241m=\u001b[39mmessages)\n\u001b[1;32m     18\u001b[0m \u001b[38;5;66;03m# 输出回复\u001b[39;00m\n\u001b[1;32m     19\u001b[0m \u001b[38;5;28mprint\u001b[39m(chat_completion\u001b[38;5;241m.\u001b[39mchoices[\u001b[38;5;241m0\u001b[39m]\u001b[38;5;241m.\u001b[39mmessage\u001b[38;5;241m.\u001b[39mcontent)\n",
      "\u001b[0;31mNameError\u001b[0m: name 'client' is not defined"
     ]
    }
   ],
   "source": [
    "# 消息格式\n",
    "messages = [\n",
    "    {\n",
    "        \"role\": \"system\",\n",
    "        \"content\": \"你是AI助手小瓜.你是AGIClass的助教。这门课每周二、四上课。\"\n",
    "    },\n",
    "    {\n",
    "        \"role\": \"user\",\n",
    "        \"content\": \"你是干什么的?什么时间上课\"\n",
    "    },\n",
    "\n",
    "]\n",
    "\n",
    "# 调用ChatGPT-3.5\n",
    "chat_completion = client.chat.completions.create(\n",
    "    model=\"gpt-3.5-turbo\", messages=messages)\n",
    "\n",
    "# 输出回复\n",
    "print(chat_completion.choices[0].message.content)"
   ]
  },
  {
   "cell_type": "markdown",
   "metadata": {},
   "source": [
    "## 彩蛋\n",
    "\n",
    "我们开发的大模型提效利器：[ChatALL](http://chatall.ai/)。某前端工程师用后表示：「1 小时的调试工作缩短到 5 分钟」。\n"
   ]
  },
  {
   "cell_type": "markdown",
   "metadata": {},
   "source": [
    "## 作业\n",
    "\n",
    "为保证后续课程能正常跟进，请完成如下作业：\n",
    "\n",
    "1. 能正常使用 ChatGPT 或 Bing Chat 至少之一\n",
    "2. 下载安装 [ChatALL](http://chatall.ai/)，通过它体验 ChatGPT 或/和 Bing Chat\n",
    "3. 在 GitHub 给 ChatALL 加个星星（此条自愿完成 😁）\n"
   ]
  }
 ],
 "metadata": {
  "colab": {
   "provenance": [],
   "toc_visible": true
  },
  "kernelspec": {
   "display_name": "Python 3 (ipykernel)",
   "language": "python",
   "name": "python3"
  },
  "language_info": {
   "codemirror_mode": {
    "name": "ipython",
    "version": 3
   },
   "file_extension": ".py",
   "mimetype": "text/x-python",
   "name": "python",
   "nbconvert_exporter": "python",
   "pygments_lexer": "ipython3",
   "version": "3.11.4"
  }
 },
 "nbformat": 4,
 "nbformat_minor": 4
}
