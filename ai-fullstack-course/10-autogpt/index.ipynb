{
 "cells": [
  {
   "cell_type": "markdown",
   "metadata": {},
   "source": [
    "# 💡 这节课会带给你\n",
    "\n",
    "这节课直播演示如何从头写一个 AutoGPT。\n",
    "\n",
    "<!-- 源代码从左边目录树中，右键点击 `autogpt.zip` 下载。如下图： -->\n",
    "\n",
    "源代码下载：\n",
    "\n",
    "链接: https://pan.baidu.com/s/17RgybfOe7BFP6W-38twLmQ?pwd=26rr 提取码: 26rr \n",
    "\n",
    "<!-- <img src=\"download.png\" width=\"400\" /> -->\n"
   ]
  },
  {
   "cell_type": "markdown",
   "metadata": {},
   "source": [
    "课件中使用到 OpenAI key 参考  https://a.agiclass.ai"
   ]
  }
 ],
 "metadata": {
  "kernelspec": {
   "display_name": "Python 3 (ipykernel)",
   "language": "python",
   "name": "python3"
  },
  "language_info": {
   "codemirror_mode": {
    "name": "ipython",
    "version": 3
   },
   "file_extension": ".py",
   "mimetype": "text/x-python",
   "name": "python",
   "nbconvert_exporter": "python",
   "pygments_lexer": "ipython3",
   "version": "3.11.5"
  }
 },
 "nbformat": 4,
 "nbformat_minor": 4
}
