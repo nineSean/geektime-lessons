{
 "cells": [
  {
   "cell_type": "markdown",
   "metadata": {},
   "source": [
    "## stable diffusion\n",
    "\n",
    "## 热身\n",
    "\n",
    "一键搭建 stable diffusion\n",
    "\n",
    "![sd-step1](./img/sd-step1.png)\n",
    "![sd-step2](./img/sd-step1.png)\n",
    "![sd-step3](./img/sd-step3.png)\n",
    "\n",
    "#### 等部署完成后，点击启动 Web 应用即可\n",
    "\n",
    "#### 实验提示词：\n",
    "\n",
    "```\n",
    "A photorealistic, highly detailed illustration of Ana de Armas in a vintage Hollywood style, reminiscent of the golden age of cinema, with a focus on glamour and elegance.\n",
    "```\n",
    "\n",
    "![sd-web-ui](./img/sd-web-ui.png)\n"
   ]
  }
 ],
 "metadata": {
  "language_info": {
   "name": "python"
  }
 },
 "nbformat": 4,
 "nbformat_minor": 2
}
